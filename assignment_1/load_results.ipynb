{
 "cells": [
  {
   "cell_type": "code",
   "execution_count": 251,
   "metadata": {},
   "outputs": [],
   "source": [
    "import re\n",
    "import os\n",
    "\n",
    "from typing import List, Set\n",
    "\n",
    "import pandas as pd\n",
    "import numpy as np\n",
    "\n",
    "import natsort\n"
   ]
  },
  {
   "cell_type": "code",
   "execution_count": 252,
   "metadata": {},
   "outputs": [
    {
     "data": {
      "text/plain": [
       "720"
      ]
     },
     "execution_count": 252,
     "metadata": {},
     "output_type": "execute_result"
    }
   ],
   "source": [
    "csv_list: List[str] = os.listdir('./results/csv/')\n",
    "csv_list = [csv for csv in csv_list if re.search('\\.csv$', csv)]\n",
    "len(csv_list)"
   ]
  },
  {
   "cell_type": "code",
   "execution_count": 253,
   "metadata": {},
   "outputs": [],
   "source": [
    "def strip_common_substring(csv_element: str) -> str:\n",
    "    return '_'.join(csv_element.split('_')[1:])\n",
    "\n",
    "def get_train_size_from_csv(csv_element: str) -> int:\n",
    "    return int(csv_element.split('_')[0])"
   ]
  },
  {
   "cell_type": "code",
   "execution_count": 254,
   "metadata": {},
   "outputs": [],
   "source": [
    "csv_elem = csv_list[0]"
   ]
  },
  {
   "cell_type": "code",
   "execution_count": 255,
   "metadata": {},
   "outputs": [
    {
     "data": {
      "text/plain": [
       "'forest_num_estimators_100.csv'"
      ]
     },
     "execution_count": 255,
     "metadata": {},
     "output_type": "execute_result"
    }
   ],
   "source": [
    "test_substring = strip_common_substring(csv_elem)\n",
    "test_substring"
   ]
  },
  {
   "cell_type": "code",
   "execution_count": 256,
   "metadata": {},
   "outputs": [
    {
     "data": {
      "text/plain": [
       "2000"
      ]
     },
     "execution_count": 256,
     "metadata": {},
     "output_type": "execute_result"
    }
   ],
   "source": [
    "test_train_size = get_train_size_from_csv(csv_elem)\n",
    "test_train_size"
   ]
  },
  {
   "cell_type": "code",
   "execution_count": 257,
   "metadata": {},
   "outputs": [],
   "source": [
    "all_common_substrings_gen = (strip_common_substring(x) for x in csv_list)"
   ]
  },
  {
   "cell_type": "code",
   "execution_count": 258,
   "metadata": {},
   "outputs": [
    {
     "data": {
      "text/plain": [
       "['1000_forest_num_estimators_100.csv',\n",
       " '2000_forest_num_estimators_100.csv',\n",
       " '3000_forest_num_estimators_100.csv',\n",
       " '4000_forest_num_estimators_100.csv',\n",
       " '5000_forest_num_estimators_100.csv',\n",
       " '6000_forest_num_estimators_100.csv',\n",
       " '7000_forest_num_estimators_100.csv',\n",
       " '8000_forest_num_estimators_100.csv',\n",
       " '9000_forest_num_estimators_100.csv',\n",
       " '10000_forest_num_estimators_100.csv',\n",
       " '11000_forest_num_estimators_100.csv',\n",
       " '12000_forest_num_estimators_100.csv',\n",
       " '13000_forest_num_estimators_100.csv',\n",
       " '14000_forest_num_estimators_100.csv',\n",
       " '15000_forest_num_estimators_100.csv',\n",
       " '16000_forest_num_estimators_100.csv',\n",
       " '17000_forest_num_estimators_100.csv',\n",
       " '18000_forest_num_estimators_100.csv',\n",
       " '19000_forest_num_estimators_100.csv',\n",
       " '20000_forest_num_estimators_100.csv']"
      ]
     },
     "execution_count": 258,
     "metadata": {},
     "output_type": "execute_result"
    }
   ],
   "source": [
    "def get_all_common_csv(csv_substring: str) -> List[str]:\n",
    "    dir_files = [x for x in csv_list if csv_substring in x]\n",
    "    dir_files = natsort.natsorted(dir_files)\n",
    "    return dir_files\n",
    "    \n",
    "get_all_common_csv(test_substring)"
   ]
  },
  {
   "cell_type": "code",
   "execution_count": 259,
   "metadata": {},
   "outputs": [],
   "source": [
    "def store_combined_dataframe(csv_substring: str) -> pd.DataFrame:\n",
    "    dir_files = get_all_common_csv(csv_substring)\n",
    "    \n",
    "    df_index: List[int] = [x for x in range(1000, 20001, 1000)]\n",
    "    df_columns: List[str] = ['0', '1', '2', '3', '4', '5', '6', '7', '8', '9', 'accuracy', 'train time', 'predict time']\n",
    "    \n",
    "    df = pd.DataFrame(columns=df_columns)\n",
    "    \n",
    "    for file in dir_files:\n",
    "        train_size = get_train_size_from_csv(file)\n",
    "        \n",
    "        current_df = pd.read_csv(f'./results/csv/{file}', index_col=0)\n",
    "        current_df = current_df.transpose()\n",
    "\n",
    "        train_time, predict_time = current_df['accuracy'][['train time', 'predict time']]\n",
    "        time_df = pd.Series([train_time, predict_time], index=['train time', 'predict time']).to_frame().transpose()\n",
    "        time_df.index = [train_size]\n",
    "    \n",
    "        f1_scores_df = current_df.loc['f1-score'][:-2].to_frame().transpose()\n",
    "        f1_scores_df.index = [train_size]\n",
    "        \n",
    "        df_row = pd.merge(f1_scores_df, time_df, left_index=True, right_index=True)\n",
    "        \n",
    "        df = pd.concat([df, df_row])\n",
    "        df.to_csv(f'./results/analysis/{csv_substring}')\n",
    "        \n",
    "    \n",
    "    return df\n"
   ]
  },
  {
   "cell_type": "code",
   "execution_count": 260,
   "metadata": {},
   "outputs": [],
   "source": [
    "for sub in all_common_substrings_gen:\n",
    "    store_combined_dataframe(sub)"
   ]
  }
 ],
 "metadata": {
  "kernelspec": {
   "display_name": "Python 3.9.13 ('sklearn')",
   "language": "python",
   "name": "python3"
  },
  "language_info": {
   "codemirror_mode": {
    "name": "ipython",
    "version": 3
   },
   "file_extension": ".py",
   "mimetype": "text/x-python",
   "name": "python",
   "nbconvert_exporter": "python",
   "pygments_lexer": "ipython3",
   "version": "3.9.13"
  },
  "orig_nbformat": 4,
  "vscode": {
   "interpreter": {
    "hash": "22a5bd0160c479b3e51ed66060515b262fb0f0f37133b4cd3b90cf27d5f641f2"
   }
  }
 },
 "nbformat": 4,
 "nbformat_minor": 2
}
