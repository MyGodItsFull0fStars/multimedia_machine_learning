{
 "cells": [
  {
   "cell_type": "code",
   "execution_count": 1,
   "metadata": {},
   "outputs": [],
   "source": [
    "import time\n",
    "\n",
    "from sklearn import datasets, metrics\n",
    "from sklearn.svm import SVC, LinearSVC\n",
    "from sklearn.ensemble import RandomForestClassifier\n",
    "from sklearn.model_selection import train_test_split\n",
    "from sklearn.datasets import fetch_openml\n",
    "from sklearn.metrics import classification_report, confusion_matrix, ConfusionMatrixDisplay\n",
    "\n",
    "from sklearn.decomposition import PCA\n",
    "from sklearn.preprocessing import StandardScaler\n",
    "\n",
    "import pandas as pd\n",
    "import numpy as np\n",
    "\n",
    "import tensorflow as tf\n",
    "import matplotlib.pyplot as plt"
   ]
  },
  {
   "cell_type": "code",
   "execution_count": 2,
   "metadata": {},
   "outputs": [],
   "source": [
    "feature_df = pd.read_csv('./mnist_features.csv', index_col=0)\n",
    "label_df = pd.read_csv('./mnist_labels.csv', index_col=0)"
   ]
  },
  {
   "cell_type": "code",
   "execution_count": 3,
   "metadata": {},
   "outputs": [],
   "source": [
    "SVM_KEY = 'svm'\n",
    "RANDOM_FOREST_KEY = 'random_forest'"
   ]
  },
  {
   "cell_type": "code",
   "execution_count": 4,
   "metadata": {},
   "outputs": [],
   "source": [
    "svm_gamma = 'scale'\n",
    "svm_class_weights = 'balanced'\n",
    "pca_num_components: int = 9\n",
    "forest_depth = None\n",
    "forest_number_of_estimators = 100"
   ]
  },
  {
   "cell_type": "code",
   "execution_count": 5,
   "metadata": {},
   "outputs": [],
   "source": [
    "split_size = [(index + 1) * 2500 for index in range(0, 22)]"
   ]
  },
  {
   "cell_type": "code",
   "execution_count": 6,
   "metadata": {},
   "outputs": [],
   "source": [
    "def get_classifier(classifier_name: str):\n",
    "    if classifier_name == SVM_KEY:\n",
    "        return SVC(gamma=svm_gamma, class_weight=svm_class_weights)\n",
    "    elif classifier_name == RANDOM_FOREST_KEY:\n",
    "        return RandomForestClassifier(n_estimators=forest_number_of_estimators, max_depth=forest_depth)"
   ]
  },
  {
   "cell_type": "code",
   "execution_count": 7,
   "metadata": {},
   "outputs": [],
   "source": [
    "def include_pca_preprocessing(data: pd.DataFrame, num_components: int) -> pd.DataFrame:\n",
    "    standard_data = StandardScaler().fit_transform(data)\n",
    "    pca = PCA(num_components)\n",
    "    X_pca = pca.fit_transform(standard_data)\n",
    "    return X_pca"
   ]
  },
  {
   "cell_type": "code",
   "execution_count": 8,
   "metadata": {},
   "outputs": [],
   "source": [
    "def get_dataframe_path(classifier: str, split: int, is_pca: bool) -> str:\n",
    "    dataframe_path = f'./results/{classifier}_num_features_{split}'\n",
    "    if is_pca:\n",
    "        dataframe_path +=  '_pca'\n",
    "    dataframe_path += '.csv'\n",
    "    \n",
    "    return dataframe_path"
   ]
  },
  {
   "cell_type": "code",
   "execution_count": 9,
   "metadata": {},
   "outputs": [],
   "source": [
    "def get_time_measure_path(classifier: str, is_pca: bool) -> str:\n",
    "    time_path = f'./results/{classifier}_runtime'\n",
    "    if is_pca:\n",
    "        time_path += '_pca'\n",
    "    time_path += '.csv'\n",
    "    \n",
    "    return time_path"
   ]
  },
  {
   "cell_type": "code",
   "execution_count": 10,
   "metadata": {},
   "outputs": [],
   "source": [
    "def get_train_test_set(split, is_pca):\n",
    "    index_permutation = np.random.permutation(len(feature_df))\n",
    "    X = feature_df.loc[index_permutation]\n",
    "    y = label_df.loc[index_permutation]\n",
    "    X.reset_index(drop=True, inplace=True)\n",
    "    y.reset_index(drop=True, inplace=True)\n",
    "    \n",
    "    split_index = split\n",
    "    end_index = round(split_index * 1.25)\n",
    "\n",
    "    X_train, X_test = X[:split_index], X[split_index:end_index]\n",
    "    y_train, y_test = y[:split_index], y[split_index:end_index]\n",
    "    \n",
    "    if is_pca == True:\n",
    "        X_train = include_pca_preprocessing(X_train, pca_num_components)\n",
    "        X_test = include_pca_preprocessing(X_test, pca_num_components)\n",
    "    \n",
    "    y_train = y_train.values.flatten()\n",
    "    \n",
    "    return X_train, y_train, X_test, y_test"
   ]
  },
  {
   "cell_type": "code",
   "execution_count": 11,
   "metadata": {},
   "outputs": [
    {
     "name": "stdout",
     "output_type": "stream",
     "text": [
      "nan\n"
     ]
    }
   ],
   "source": [
    "runtime_df = pd.DataFrame(index=split_size, columns=['training runtime', 'prediction runtime'])\n",
    "print(runtime_df.loc[2500]['training runtime'])"
   ]
  },
  {
   "cell_type": "code",
   "execution_count": 12,
   "metadata": {},
   "outputs": [],
   "source": [
    "def track_runtime(classifier: str, is_pca: bool = False):\n",
    "    counter: int = 1\n",
    "    \n",
    "    runtime_df = pd.DataFrame(index=split_size, columns=['training runtime', 'prediction runtime', 'test size'])\n",
    "    \n",
    "    \n",
    "    for split in split_size:        \n",
    "        print(f'Run ({counter}/{len(split_size)})')\n",
    "        counter += 1\n",
    "\n",
    "        X_train, y_train, X_test, y_test = get_train_test_set(split, is_pca)\n",
    "        \n",
    "        model = get_classifier(classifier)\n",
    "        \n",
    "        start_time = time.perf_counter()\n",
    "        model.fit(X_train, y_train)\n",
    "        end_time = time.perf_counter()\n",
    "        runtime_df.loc[split]['training runtime'] = end_time - start_time\n",
    "        \n",
    "        start_time = time.perf_counter()\n",
    "        y_predict = model.predict(X_test)\n",
    "        end_time = time.perf_counter()\n",
    "        \n",
    "        runtime_df.loc[split]['prediction runtime'] = end_time - start_time\n",
    "        runtime_df.loc[split]['test size'] = len(X_test)\n",
    "        \n",
    "        report = classification_report(y_test, y_predict, output_dict=True)\n",
    "        df_path = get_dataframe_path(classifier, split, is_pca)\n",
    "        classification_df = pd.DataFrame(report).transpose()\n",
    "        classification_df.to_csv(df_path)\n",
    "        \n",
    "    runtime_path = get_time_measure_path(classifier, is_pca)\n",
    "    runtime_df.to_csv(runtime_path)\n",
    "        \n"
   ]
  },
  {
   "cell_type": "code",
   "execution_count": 13,
   "metadata": {},
   "outputs": [
    {
     "name": "stdout",
     "output_type": "stream",
     "text": [
      "Run (1/22)\n",
      "Run (2/22)\n",
      "Run (3/22)\n",
      "Run (4/22)\n",
      "Run (5/22)\n",
      "Run (6/22)\n",
      "Run (7/22)\n",
      "Run (8/22)\n",
      "Run (9/22)\n",
      "Run (10/22)\n",
      "Run (11/22)\n",
      "Run (12/22)\n",
      "Run (13/22)\n",
      "Run (14/22)\n",
      "Run (15/22)\n",
      "Run (16/22)\n",
      "Run (17/22)\n",
      "Run (18/22)\n",
      "Run (19/22)\n",
      "Run (20/22)\n",
      "Run (21/22)\n",
      "Run (22/22)\n"
     ]
    }
   ],
   "source": [
    "track_runtime(SVM_KEY, is_pca=False)"
   ]
  },
  {
   "cell_type": "code",
   "execution_count": 14,
   "metadata": {},
   "outputs": [
    {
     "name": "stdout",
     "output_type": "stream",
     "text": [
      "Run (1/22)\n",
      "Run (2/22)\n",
      "Run (3/22)\n",
      "Run (4/22)\n",
      "Run (5/22)\n",
      "Run (6/22)\n",
      "Run (7/22)\n",
      "Run (8/22)\n",
      "Run (9/22)\n",
      "Run (10/22)\n",
      "Run (11/22)\n",
      "Run (12/22)\n",
      "Run (13/22)\n",
      "Run (14/22)\n",
      "Run (15/22)\n",
      "Run (16/22)\n",
      "Run (17/22)\n",
      "Run (18/22)\n",
      "Run (19/22)\n",
      "Run (20/22)\n",
      "Run (21/22)\n",
      "Run (22/22)\n"
     ]
    }
   ],
   "source": [
    "track_runtime(SVM_KEY, is_pca=True)"
   ]
  },
  {
   "cell_type": "code",
   "execution_count": 15,
   "metadata": {},
   "outputs": [
    {
     "name": "stdout",
     "output_type": "stream",
     "text": [
      "Run (1/22)\n",
      "Run (2/22)\n",
      "Run (3/22)\n",
      "Run (4/22)\n",
      "Run (5/22)\n",
      "Run (6/22)\n",
      "Run (7/22)\n",
      "Run (8/22)\n",
      "Run (9/22)\n",
      "Run (10/22)\n",
      "Run (11/22)\n",
      "Run (12/22)\n",
      "Run (13/22)\n",
      "Run (14/22)\n",
      "Run (15/22)\n",
      "Run (16/22)\n",
      "Run (17/22)\n",
      "Run (18/22)\n",
      "Run (19/22)\n",
      "Run (20/22)\n",
      "Run (21/22)\n",
      "Run (22/22)\n"
     ]
    }
   ],
   "source": [
    "track_runtime(RANDOM_FOREST_KEY, is_pca=False)"
   ]
  },
  {
   "cell_type": "code",
   "execution_count": 16,
   "metadata": {},
   "outputs": [
    {
     "name": "stdout",
     "output_type": "stream",
     "text": [
      "Run (1/22)\n",
      "Run (2/22)\n",
      "Run (3/22)\n",
      "Run (4/22)\n",
      "Run (5/22)\n",
      "Run (6/22)\n",
      "Run (7/22)\n",
      "Run (8/22)\n",
      "Run (9/22)\n",
      "Run (10/22)\n",
      "Run (11/22)\n",
      "Run (12/22)\n",
      "Run (13/22)\n",
      "Run (14/22)\n",
      "Run (15/22)\n",
      "Run (16/22)\n",
      "Run (17/22)\n",
      "Run (18/22)\n",
      "Run (19/22)\n",
      "Run (20/22)\n",
      "Run (21/22)\n",
      "Run (22/22)\n"
     ]
    }
   ],
   "source": [
    "track_runtime(RANDOM_FOREST_KEY, is_pca=True)"
   ]
  }
 ],
 "metadata": {
  "kernelspec": {
   "display_name": "Python 3.9.13 ('sklearn')",
   "language": "python",
   "name": "python3"
  },
  "language_info": {
   "codemirror_mode": {
    "name": "ipython",
    "version": 3
   },
   "file_extension": ".py",
   "mimetype": "text/x-python",
   "name": "python",
   "nbconvert_exporter": "python",
   "pygments_lexer": "ipython3",
   "version": "3.9.13"
  },
  "orig_nbformat": 4,
  "vscode": {
   "interpreter": {
    "hash": "22a5bd0160c479b3e51ed66060515b262fb0f0f37133b4cd3b90cf27d5f641f2"
   }
  }
 },
 "nbformat": 4,
 "nbformat_minor": 2
}
