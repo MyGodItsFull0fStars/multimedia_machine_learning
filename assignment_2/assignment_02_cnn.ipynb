{
 "cells": [
  {
   "cell_type": "code",
   "execution_count": 1,
   "metadata": {},
   "outputs": [
    {
     "name": "stderr",
     "output_type": "stream",
     "text": [
      "/Users/macbook/opt/miniconda3/envs/ml_pytorch/lib/python3.9/site-packages/tqdm/auto.py:22: TqdmWarning: IProgress not found. Please update jupyter and ipywidgets. See https://ipywidgets.readthedocs.io/en/stable/user_install.html\n",
      "  from .autonotebook import tqdm as notebook_tqdm\n"
     ]
    }
   ],
   "source": [
    "import torch\n",
    "import torch.nn as nn\n",
    "import torchvision\n",
    "import torchvision.transforms as transforms\n",
    "import torch.optim as optim\n",
    "from tqdm import tqdm, trange\n",
    "import numpy as np\n",
    "import wandb\n",
    "from torch.utils.data import DataLoader\n",
    "\n",
    "from typing import List\n",
    "\n",
    "from models import CNNSmall, CNNModerate, VGG, VGG_11, VGG_16\n",
    "\n",
    "from utils import get_torch_device, get_torch_device_as_string\n"
   ]
  },
  {
   "cell_type": "code",
   "execution_count": 23,
   "metadata": {},
   "outputs": [],
   "source": [
    "DATASET_PATH: str = './data'\n",
    "NUM_WORKERS_DATALOADER: int = 4\n",
    "\n",
    "BATCH_SIZE: int = 64\n",
    "LEARNING_RATE: float = 0.001\n",
    "MOMENTUM: float = 0.9\n",
    "\n",
    "NUM_EPOCHS: int = 1\n",
    "\n",
    "DEVICE = get_torch_device(include_mps=False)\n",
    "\n",
    "INCLUDE_WANDB: bool = True\n",
    "\n",
    "SMALL_DATASET: bool = True"
   ]
  },
  {
   "cell_type": "code",
   "execution_count": null,
   "metadata": {},
   "outputs": [],
   "source": [
    "model = CNNSmall().to(DEVICE)\n",
    "# model = CNNModerate().to(DEVICE)\n",
    "# model = VGG(VGG_11).to(DEVICE)\n",
    "# model = VGG(VGG_16).to(DEVICE)"
   ]
  },
  {
   "cell_type": "code",
   "execution_count": 24,
   "metadata": {},
   "outputs": [
    {
     "name": "stderr",
     "output_type": "stream",
     "text": [
      "Failed to detect the name of this notebook, you can set it manually with the WANDB_NOTEBOOK_NAME environment variable to enable code saving.\n",
      "\u001b[34m\u001b[1mwandb\u001b[0m: Currently logged in as: \u001b[33mmy-god-its-full-of-stars\u001b[0m. Use \u001b[1m`wandb login --relogin`\u001b[0m to force relogin\n"
     ]
    },
    {
     "data": {
      "text/html": [
       "wandb version 0.13.3 is available!  To upgrade, please run:\n",
       " $ pip install wandb --upgrade"
      ],
      "text/plain": [
       "<IPython.core.display.HTML object>"
      ]
     },
     "metadata": {},
     "output_type": "display_data"
    },
    {
     "data": {
      "text/html": [
       "Tracking run with wandb version 0.13.1"
      ],
      "text/plain": [
       "<IPython.core.display.HTML object>"
      ]
     },
     "metadata": {},
     "output_type": "display_data"
    },
    {
     "data": {
      "text/html": [
       "Run data is saved locally in <code>/Users/macbook/Development/multimedia_machine_learning/assignment_2/wandb/run-20220930_033926-1jvgpbgb</code>"
      ],
      "text/plain": [
       "<IPython.core.display.HTML object>"
      ]
     },
     "metadata": {},
     "output_type": "display_data"
    },
    {
     "data": {
      "text/html": [
       "Syncing run <strong><a href=\"https://wandb.ai/my-god-its-full-of-stars/CNN%20Small/runs/1jvgpbgb\" target=\"_blank\">curious-frog-14</a></strong> to <a href=\"https://wandb.ai/my-god-its-full-of-stars/CNN%20Small\" target=\"_blank\">Weights & Biases</a> (<a href=\"https://wandb.me/run\" target=\"_blank\">docs</a>)<br/>"
      ],
      "text/plain": [
       "<IPython.core.display.HTML object>"
      ]
     },
     "metadata": {},
     "output_type": "display_data"
    }
   ],
   "source": [
    "if INCLUDE_WANDB:\n",
    "    import wandb\n",
    "    config_dict = {\n",
    "        'batch_size': BATCH_SIZE,\n",
    "        'learning_rate': LEARNING_RATE,\n",
    "        'num_epochs': NUM_EPOCHS,\n",
    "        'training_device': get_torch_device_as_string(),\n",
    "        'num_workers_dataloader': NUM_WORKERS_DATALOADER,\n",
    "        'dataset_size': 'small' if SMALL_DATASET else 'all',\n",
    "        'model type': 'CNN Small'\n",
    "    }\n",
    "    wandb.init(project='CNN', config=config_dict)"
   ]
  },
  {
   "cell_type": "code",
   "execution_count": 25,
   "metadata": {},
   "outputs": [],
   "source": [
    "\n",
    "image_classes: List[str] = ['plane', 'car', 'bird', 'cat',\n",
    "                            'deer', 'dog', 'frog', 'horse', 'ship', 'truck']\n",
    "\n",
    "transform_images = transforms.Compose(\n",
    "    [transforms.ToTensor(),\n",
    "     transforms.Normalize((0.5, 0.5, 0.5), (0.5, 0.5, 0.5))])\n"
   ]
  },
  {
   "cell_type": "code",
   "execution_count": 26,
   "metadata": {},
   "outputs": [
    {
     "name": "stdout",
     "output_type": "stream",
     "text": [
      "Files already downloaded and verified\n",
      "Files already downloaded and verified\n",
      "Files already downloaded and verified\n"
     ]
    }
   ],
   "source": [
    "train_dataset = torchvision.datasets.CIFAR10(root=DATASET_PATH, train=True, download=True, transform=transform_images)\n",
    "validation_dataset = torchvision.datasets.CIFAR10(root=DATASET_PATH, train=True, download=True, transform=transform_images)\n",
    "test_dataset = torchvision.datasets.CIFAR10(root=DATASET_PATH, train=False, download=True, transform=transform_images)"
   ]
  },
  {
   "cell_type": "code",
   "execution_count": 27,
   "metadata": {},
   "outputs": [],
   "source": [
    "if SMALL_DATASET:\n",
    "    train_dataset.data = train_dataset.data[:1000]\n",
    "    validation_dataset.data = validation_dataset.data[:1000]\n",
    "    test_dataset.data = test_dataset.data[:250]"
   ]
  },
  {
   "cell_type": "code",
   "execution_count": 28,
   "metadata": {},
   "outputs": [],
   "source": [
    "validation_split: int = round(len(train_dataset) * 0.8)\n",
    "\n",
    "train_dataset.data = train_dataset.data[:validation_split]\n",
    "validation_dataset.data = validation_dataset.data[validation_split:]\n"
   ]
  },
  {
   "cell_type": "code",
   "execution_count": 29,
   "metadata": {},
   "outputs": [],
   "source": [
    "\n",
    "train_dataloader = DataLoader(\n",
    "    train_dataset, batch_size=BATCH_SIZE, shuffle=True, num_workers=NUM_WORKERS_DATALOADER)\n",
    "\n",
    "validation_dataloader = DataLoader(\n",
    "    validation_dataset, batch_size=BATCH_SIZE, shuffle=False, num_workers=NUM_WORKERS_DATALOADER\n",
    ")\n",
    "\n",
    "test_dataloader = DataLoader(\n",
    "    test_dataset, batch_size=BATCH_SIZE, shuffle=False, num_workers=NUM_WORKERS_DATALOADER)\n"
   ]
  },
  {
   "cell_type": "code",
   "execution_count": 31,
   "metadata": {},
   "outputs": [],
   "source": [
    "loss_function = nn.CrossEntropyLoss().to(DEVICE)\n",
    "optimizer = optim.AdamW(model.parameters(), lr=LEARNING_RATE)"
   ]
  },
  {
   "cell_type": "code",
   "execution_count": 32,
   "metadata": {},
   "outputs": [],
   "source": [
    "def get_test_accuracy(data_loader: DataLoader, is_validation: bool = False):\n",
    "    correct = 0\n",
    "    total = 0\n",
    "    validation_string = 'validation' if is_validation else 'test'\n",
    "    # the gradients don't get calculated while testing\n",
    "    with torch.no_grad():\n",
    "        for (images, labels) in tqdm(data_loader, desc=f'{validation_string} loop'):\n",
    "            images, labels = images.to(DEVICE), labels.to(DEVICE)\n",
    "            # calculate outputs by running images through the network\n",
    "            y_predictions = model(images)\n",
    "            # the class with the highest probability (energy) is what we choose as prediction\n",
    "            _, predicted = torch.max(y_predictions.data, 1)\n",
    "            total += labels.size(0)\n",
    "            correct += (predicted == labels).sum().item()\n",
    "            \n",
    "    test_accuracy = 100 * correct // total\n",
    "    if not is_validation:\n",
    "        print(f'Accuracy of the network on the {len(data_loader.dataset)} test images: {test_accuracy} %')\n",
    "\n",
    "    if INCLUDE_WANDB:\n",
    "        if is_validation:\n",
    "            wandb.log({'validation accuracy': test_accuracy})\n",
    "        wandb.run.summary['test dataset overall accuracy %'] = test_accuracy"
   ]
  },
  {
   "cell_type": "code",
   "execution_count": 33,
   "metadata": {},
   "outputs": [],
   "source": [
    "def get_test_accuracy_of_each_class(data_loader: DataLoader, is_validation: bool = False):\n",
    "    # prepare to count predictions for each class\n",
    "    correct_pred = {classname: 0 for classname in image_classes}\n",
    "    total_pred = {classname: 0 for classname in image_classes}\n",
    "    \n",
    "    validation_string = 'validation' if is_validation else 'test'\n",
    "\n",
    "    # again no gradients needed\n",
    "    with torch.no_grad():\n",
    "        for (images, labels) in tqdm(data_loader, desc=f'{validation_string} loop'):\n",
    "            images, labels = images.to(DEVICE), labels.to(DEVICE)\n",
    "            outputs = model(images)\n",
    "            _, predictions = torch.max(outputs, 1)\n",
    "            # collect the correct predictions for each class\n",
    "            for label, prediction in zip(labels, predictions):\n",
    "                if label == prediction:\n",
    "                    correct_pred[image_classes[label]] += 1\n",
    "                total_pred[image_classes[label]] += 1\n",
    "\n",
    "    # print accuracy for each class\n",
    "    for classname, correct_count in correct_pred.items():\n",
    "        accuracy = 100 * float(correct_count) / total_pred[classname]\n",
    "        if not is_validation:\n",
    "            print(f'Accuracy for class: {classname:5s} is {accuracy:.1f} %')\n",
    "            \n",
    "        if INCLUDE_WANDB:\n",
    "            key = f'{validation_string} {classname} accuracy'\n",
    "            wandb.log({\n",
    "                key: accuracy\n",
    "            })\n",
    "            wandb.run.summary[key] = accuracy\n",
    "            "
   ]
  },
  {
   "cell_type": "code",
   "execution_count": 34,
   "metadata": {},
   "outputs": [
    {
     "name": "stderr",
     "output_type": "stream",
     "text": [
      "100%|██████████| 13/13 [00:22<00:00,  1.71s/it]\n",
      "validation loop: 100%|██████████| 4/4 [00:21<00:00,  5.46s/it]\n",
      "validation loop: 100%|██████████| 4/4 [00:21<00:00,  5.44s/it]"
     ]
    },
    {
     "name": "stdout",
     "output_type": "stream",
     "text": [
      "Accuracy for class: plane is 14.3 %\n",
      "Accuracy for class: car   is 10.7 %\n",
      "Accuracy for class: bird  is 0.0 %\n",
      "Accuracy for class: cat   is 0.0 %\n",
      "Accuracy for class: deer  is 0.0 %\n",
      "Accuracy for class: dog   is 0.0 %\n",
      "Accuracy for class: frog  is 33.3 %\n",
      "Accuracy for class: horse is 9.5 %\n",
      "Accuracy for class: ship  is 13.3 %\n",
      "Accuracy for class: truck is 13.0 %\n"
     ]
    },
    {
     "name": "stderr",
     "output_type": "stream",
     "text": [
      "\n"
     ]
    }
   ],
   "source": [
    "for epoch in range(NUM_EPOCHS):\n",
    "    \n",
    "    correct_predictions: int = 0\n",
    "    total_predictions: int = 0\n",
    "    \n",
    "    for idx, (inputs, labels) in enumerate(tqdm(train_dataloader), 0):\n",
    "        # zero the parameter gradients\n",
    "        optimizer.zero_grad()\n",
    "        inputs, labels = inputs.to(DEVICE), labels.to(DEVICE)\n",
    "        \n",
    "        # forward pass\n",
    "        y_hat = model(inputs)\n",
    "        \n",
    "        # calculate losses\n",
    "        loss = loss_function(y_hat, labels)\n",
    "        # backpropagate the new gradients\n",
    "        loss.backward()\n",
    "        # optimize the gradients\n",
    "        optimizer.step()\n",
    "        \n",
    "        _, y_predictions = torch.max(y_hat, 1)\n",
    "        correct_predictions += torch.sum(y_predictions == labels).item()\n",
    "        total_predictions += labels.size(0)\n",
    "        \n",
    "    if INCLUDE_WANDB:\n",
    "        train_accuracy = 100 * correct_predictions / total_predictions\n",
    "        wandb.log({\n",
    "            'loss': loss.item(), \n",
    "            'training accuracy in %': train_accuracy,\n",
    "            })\n",
    "        \n",
    "    if epoch % 50 == 0:\n",
    "        model.eval()\n",
    "        get_test_accuracy(validation_dataloader, is_validation=True)\n",
    "        get_test_accuracy_of_each_class(validation_dataloader, is_validation=True)\n",
    "        model.train()\n",
    "    "
   ]
  },
  {
   "cell_type": "code",
   "execution_count": 35,
   "metadata": {},
   "outputs": [],
   "source": [
    "MODEL_PATH: str = f'./models/cifar_net.pth'\n",
    "torch.save(model.state_dict(), MODEL_PATH)"
   ]
  },
  {
   "cell_type": "code",
   "execution_count": 36,
   "metadata": {},
   "outputs": [
    {
     "name": "stderr",
     "output_type": "stream",
     "text": [
      "test loop: 100%|██████████| 4/4 [00:21<00:00,  5.47s/it]"
     ]
    },
    {
     "name": "stdout",
     "output_type": "stream",
     "text": [
      "Accuracy of the network on the 250 test images: 24 %\n"
     ]
    },
    {
     "name": "stderr",
     "output_type": "stream",
     "text": [
      "\n"
     ]
    }
   ],
   "source": [
    "get_test_accuracy(test_dataloader)"
   ]
  },
  {
   "cell_type": "code",
   "execution_count": 37,
   "metadata": {},
   "outputs": [
    {
     "name": "stderr",
     "output_type": "stream",
     "text": [
      "test loop: 100%|██████████| 4/4 [00:21<00:00,  5.48s/it]"
     ]
    },
    {
     "name": "stdout",
     "output_type": "stream",
     "text": [
      "Accuracy for class: plane is 40.0 %\n",
      "Accuracy for class: car   is 10.0 %\n",
      "Accuracy for class: bird  is 0.0 %\n",
      "Accuracy for class: cat   is 0.0 %\n",
      "Accuracy for class: deer  is 10.5 %\n",
      "Accuracy for class: dog   is 0.0 %\n",
      "Accuracy for class: frog  is 65.5 %\n",
      "Accuracy for class: horse is 8.3 %\n",
      "Accuracy for class: ship  is 38.2 %\n",
      "Accuracy for class: truck is 50.0 %\n"
     ]
    },
    {
     "name": "stderr",
     "output_type": "stream",
     "text": [
      "\n"
     ]
    }
   ],
   "source": [
    "get_test_accuracy_of_each_class(test_dataloader)"
   ]
  }
 ],
 "metadata": {
  "kernelspec": {
   "display_name": "Python 3.9.12 ('ml_pytorch')",
   "language": "python",
   "name": "python3"
  },
  "language_info": {
   "codemirror_mode": {
    "name": "ipython",
    "version": 3
   },
   "file_extension": ".py",
   "mimetype": "text/x-python",
   "name": "python",
   "nbconvert_exporter": "python",
   "pygments_lexer": "ipython3",
   "version": "3.9.12"
  },
  "orig_nbformat": 4,
  "vscode": {
   "interpreter": {
    "hash": "bc289c9585466324d6bcd715c701435d361dd4760f0e3d7325b29a75549769c1"
   }
  }
 },
 "nbformat": 4,
 "nbformat_minor": 2
}
