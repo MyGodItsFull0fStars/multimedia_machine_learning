{
 "cells": [
  {
   "cell_type": "code",
   "execution_count": 1,
   "metadata": {},
   "outputs": [
    {
     "name": "stderr",
     "output_type": "stream",
     "text": [
      "/home/chrispy/miniconda3/envs/ml_pytorch/lib/python3.9/site-packages/tqdm/auto.py:22: TqdmWarning: IProgress not found. Please update jupyter and ipywidgets. See https://ipywidgets.readthedocs.io/en/stable/user_install.html\n",
      "  from .autonotebook import tqdm as notebook_tqdm\n"
     ]
    }
   ],
   "source": [
    "import torch\n",
    "import torch.nn as nn\n",
    "import torchvision\n",
    "import torchvision.transforms as transforms\n",
    "import torch.optim as optim\n",
    "from tqdm import tqdm, trange\n",
    "import numpy as np\n",
    "import wandb\n",
    "from torch.utils.data import DataLoader\n",
    "from time import perf_counter\n",
    "import matplotlib.pyplot as plt\n",
    "\n",
    "from typing import List\n",
    "\n",
    "from models import CNNSmall, CNNModerate, CNNBatchnorm, CNNBig, VGG, VGG_11, VGG_16\n",
    "\n",
    "from utils import get_torch_device, get_torch_device_as_string\n"
   ]
  },
  {
   "cell_type": "code",
   "execution_count": 2,
   "metadata": {},
   "outputs": [],
   "source": [
    "DATASET_PATH: str = './data'\n",
    "NUM_WORKERS_DATALOADER: int = 8\n",
    "\n",
    "BATCH_SIZE: int = 100\n",
    "LEARNING_RATE: float = 0.001\n",
    "MOMENTUM: float = 0.9\n",
    "\n",
    "NUM_EPOCHS: int = 100\n",
    "\n",
    "DEVICE = get_torch_device(include_mps=False)\n",
    "\n",
    "INCLUDE_WANDB: bool = True\n",
    "\n",
    "SMALL_DATASET: bool = False"
   ]
  },
  {
   "cell_type": "code",
   "execution_count": 3,
   "metadata": {},
   "outputs": [],
   "source": [
    "\n",
    "# model, model_type = CNNSmall().to(DEVICE), 'CNN Small'\n",
    "# model, model_type = CNNModerate().to(DEVICE), 'CNN Moderate'\n",
    "# model, model_type = CNNBatchnorm().to(DEVICE), 'CNN Batchnorm'\n",
    "model, model_type = CNNBig().to(DEVICE), 'CNN Big'\n",
    "# model, model_type = VGG(VGG_11).to(DEVICE), 'VGG 11'\n",
    "# model, model_type = VGG(VGG_16).to(DEVICE), 'VGG 16'\n",
    "\n"
   ]
  },
  {
   "cell_type": "code",
   "execution_count": 4,
   "metadata": {},
   "outputs": [
    {
     "name": "stderr",
     "output_type": "stream",
     "text": [
      "Failed to detect the name of this notebook, you can set it manually with the WANDB_NOTEBOOK_NAME environment variable to enable code saving.\n",
      "\u001b[34m\u001b[1mwandb\u001b[0m: Currently logged in as: \u001b[33mmy-god-its-full-of-stars\u001b[0m. Use \u001b[1m`wandb login --relogin`\u001b[0m to force relogin\n"
     ]
    },
    {
     "data": {
      "text/html": [
       "wandb version 0.13.3 is available!  To upgrade, please run:\n",
       " $ pip install wandb --upgrade"
      ],
      "text/plain": [
       "<IPython.core.display.HTML object>"
      ]
     },
     "metadata": {},
     "output_type": "display_data"
    },
    {
     "data": {
      "text/html": [
       "Tracking run with wandb version 0.13.1"
      ],
      "text/plain": [
       "<IPython.core.display.HTML object>"
      ]
     },
     "metadata": {},
     "output_type": "display_data"
    },
    {
     "data": {
      "text/html": [
       "Run data is saved locally in <code>/home/chrispy/Development/multimedia_machine_learning/assignment_2/wandb/run-20220930_170831-1gi9le72</code>"
      ],
      "text/plain": [
       "<IPython.core.display.HTML object>"
      ]
     },
     "metadata": {},
     "output_type": "display_data"
    },
    {
     "data": {
      "text/html": [
       "Syncing run <strong><a href=\"https://wandb.ai/my-god-its-full-of-stars/CNN/runs/1gi9le72\" target=\"_blank\">CNN Batchnorm</a></strong> to <a href=\"https://wandb.ai/my-god-its-full-of-stars/CNN\" target=\"_blank\">Weights & Biases</a> (<a href=\"https://wandb.me/run\" target=\"_blank\">docs</a>)<br/>"
      ],
      "text/plain": [
       "<IPython.core.display.HTML object>"
      ]
     },
     "metadata": {},
     "output_type": "display_data"
    }
   ],
   "source": [
    "if INCLUDE_WANDB:\n",
    "    import wandb\n",
    "    config_dict = {\n",
    "        'batch_size': BATCH_SIZE,\n",
    "        'learning_rate': LEARNING_RATE,\n",
    "        'num_epochs': NUM_EPOCHS,\n",
    "        'training_device': get_torch_device_as_string(),\n",
    "        'num_workers_dataloader': NUM_WORKERS_DATALOADER,\n",
    "        'dataset_size': 'small' if SMALL_DATASET else 'all',\n",
    "        'model type': model_type\n",
    "    }\n",
    "    wandb.init(project='CNN', name=model_type, config=config_dict)"
   ]
  },
  {
   "cell_type": "code",
   "execution_count": 5,
   "metadata": {},
   "outputs": [],
   "source": [
    "loss_function = nn.CrossEntropyLoss().to(DEVICE)\n",
    "optimizer = optim.AdamW(model.parameters(), lr=LEARNING_RATE)"
   ]
  },
  {
   "cell_type": "code",
   "execution_count": 6,
   "metadata": {},
   "outputs": [],
   "source": [
    "\n",
    "image_classes: List[str] = ['plane', 'car', 'bird', 'cat',\n",
    "                            'deer', 'dog', 'frog', 'horse', 'ship', 'truck']\n",
    "\n",
    "transform_images = transforms.Compose(\n",
    "    [transforms.ToTensor(),\n",
    "     transforms.Normalize((0.5, 0.5, 0.5), (0.5, 0.5, 0.5))])\n"
   ]
  },
  {
   "cell_type": "code",
   "execution_count": 7,
   "metadata": {},
   "outputs": [
    {
     "name": "stdout",
     "output_type": "stream",
     "text": [
      "Files already downloaded and verified\n",
      "Files already downloaded and verified\n",
      "Files already downloaded and verified\n"
     ]
    }
   ],
   "source": [
    "train_dataset = torchvision.datasets.CIFAR10(root=DATASET_PATH, train=True, download=True, transform=transform_images)\n",
    "validation_dataset = torchvision.datasets.CIFAR10(root=DATASET_PATH, train=True, download=True, transform=transform_images)\n",
    "test_dataset = torchvision.datasets.CIFAR10(root=DATASET_PATH, train=False, download=True, transform=transform_images)"
   ]
  },
  {
   "cell_type": "code",
   "execution_count": 8,
   "metadata": {},
   "outputs": [],
   "source": [
    "if SMALL_DATASET:\n",
    "    train_dataset.data = train_dataset.data[:1000]\n",
    "    validation_dataset.data = validation_dataset.data[1000:2000]\n",
    "    test_dataset.data = test_dataset.data[:250]"
   ]
  },
  {
   "cell_type": "code",
   "execution_count": 9,
   "metadata": {},
   "outputs": [],
   "source": [
    "validation_split: int = round(len(train_dataset) * 0.8)\n",
    "\n",
    "train_dataset.data = train_dataset.data[:validation_split]\n",
    "validation_dataset.data = validation_dataset.data[validation_split:]"
   ]
  },
  {
   "cell_type": "code",
   "execution_count": 10,
   "metadata": {},
   "outputs": [],
   "source": [
    "\n",
    "train_dataloader = DataLoader(\n",
    "    train_dataset, batch_size=BATCH_SIZE, shuffle=True, num_workers=NUM_WORKERS_DATALOADER)\n",
    "\n",
    "validation_dataloader = DataLoader(\n",
    "    validation_dataset, batch_size=BATCH_SIZE, shuffle=False, num_workers=NUM_WORKERS_DATALOADER\n",
    ")\n",
    "\n",
    "test_dataloader = DataLoader(\n",
    "    test_dataset, batch_size=BATCH_SIZE, shuffle=False, num_workers=NUM_WORKERS_DATALOADER)\n"
   ]
  },
  {
   "cell_type": "code",
   "execution_count": 11,
   "metadata": {},
   "outputs": [],
   "source": [
    "def get_test_accuracy(data_loader: DataLoader, is_validation: bool = False, epoch: int = -1):\n",
    "    correct: int = 0\n",
    "    total: int = 0\n",
    "    validation_string: str = 'validation' if is_validation else 'test'\n",
    "\n",
    "    # prepare to count predictions for each class\n",
    "    correct_pred = {classname: 0 for classname in image_classes}\n",
    "    total_pred = {classname: 0 for classname in image_classes}\n",
    "\n",
    "    total_execution_time = perf_counter()\n",
    "\n",
    "    # the gradients don't get calculated while testing\n",
    "    with torch.no_grad():\n",
    "        for (images, labels) in tqdm(data_loader, desc=f'{validation_string} loop'):\n",
    "            images, labels = images.to(DEVICE), labels.to(DEVICE)\n",
    "            # calculate outputs by running images through the network\n",
    "            y_predictions = model(images)\n",
    "            # the class with the highest probability (energy) is what we choose as prediction\n",
    "            _, predicted = torch.max(y_predictions, 1)\n",
    "            total += labels.size(0)\n",
    "            correct += (predicted == labels).sum().item()\n",
    "\n",
    "            # collect the correct predictions for each class\n",
    "            for label, prediction in zip(labels, predicted):\n",
    "                if label == prediction:\n",
    "                    correct_pred[image_classes[label]] += 1\n",
    "                total_pred[image_classes[label]] += 1\n",
    "\n",
    "\n",
    "    accuracy = round(100 * correct / total, 4)\n",
    "    if not is_validation:\n",
    "        print(\n",
    "            f'Accuracy of the network on the {len(data_loader.dataset)} test images: {accuracy} %')\n",
    "\n",
    "    if INCLUDE_WANDB:\n",
    "        if is_validation:\n",
    "            if epoch == -1:\n",
    "                wandb.log({\n",
    "                    f'{validation_string} accuracy': accuracy,\n",
    "                    f'{validation_string} total execution time': perf_counter() - total_execution_time\n",
    "                })\n",
    "            else:\n",
    "                wandb.log({\n",
    "                    f'{validation_string} accuracy': accuracy,\n",
    "                    f'{validation_string} total execution time': perf_counter() - total_execution_time\n",
    "                }, step=epoch)\n",
    "\n",
    "        wandb.run.summary[f'{validation_string} dataset overall accuracy %'] = accuracy\n",
    "\n",
    "    # print accuracy for each class\n",
    "    for classname, correct_count in correct_pred.items():\n",
    "        accuracy = round(100 * correct_count / total_pred[classname], 4)\n",
    "        if not is_validation:\n",
    "            print(f'Accuracy for class: {classname:5s} is {accuracy:.1f} %')\n",
    "\n",
    "        if INCLUDE_WANDB:\n",
    "            key = f'{validation_string} {classname} accuracy'\n",
    "            if epoch == -1:\n",
    "                wandb.log({\n",
    "                    key: accuracy\n",
    "                })\n",
    "            else:\n",
    "                wandb.log({\n",
    "                    key: accuracy\n",
    "                }, step=epoch)\n",
    "            wandb.run.summary[key] = accuracy\n"
   ]
  },
  {
   "cell_type": "code",
   "execution_count": 12,
   "metadata": {},
   "outputs": [
    {
     "name": "stderr",
     "output_type": "stream",
     "text": [
      "train loop: 100%|██████████| 400/400 [00:02<00:00, 139.32it/s]\n",
      "validation loop: 100%|██████████| 100/100 [00:00<00:00, 144.75it/s]\n",
      "train loop: 100%|██████████| 400/400 [00:01<00:00, 203.58it/s]\n",
      "validation loop: 100%|██████████| 100/100 [00:00<00:00, 149.73it/s]\n",
      "train loop: 100%|██████████| 400/400 [00:01<00:00, 200.38it/s]\n",
      "validation loop: 100%|██████████| 100/100 [00:00<00:00, 139.15it/s]\n",
      "train loop: 100%|██████████| 400/400 [00:02<00:00, 193.23it/s]\n",
      "validation loop: 100%|██████████| 100/100 [00:00<00:00, 140.52it/s]\n",
      "train loop: 100%|██████████| 400/400 [00:01<00:00, 204.16it/s]\n",
      "validation loop: 100%|██████████| 100/100 [00:00<00:00, 138.11it/s]\n",
      "train loop: 100%|██████████| 400/400 [00:02<00:00, 193.38it/s]\n",
      "validation loop: 100%|██████████| 100/100 [00:00<00:00, 147.37it/s]\n",
      "train loop: 100%|██████████| 400/400 [00:02<00:00, 195.44it/s]\n",
      "validation loop: 100%|██████████| 100/100 [00:00<00:00, 133.50it/s]\n",
      "train loop: 100%|██████████| 400/400 [00:02<00:00, 190.15it/s]\n",
      "validation loop: 100%|██████████| 100/100 [00:00<00:00, 140.22it/s]\n",
      "train loop: 100%|██████████| 400/400 [00:02<00:00, 198.31it/s]\n",
      "validation loop: 100%|██████████| 100/100 [00:00<00:00, 139.70it/s]\n",
      "train loop: 100%|██████████| 400/400 [00:01<00:00, 200.68it/s]\n",
      "validation loop: 100%|██████████| 100/100 [00:00<00:00, 144.72it/s]\n",
      "train loop: 100%|██████████| 400/400 [00:01<00:00, 204.06it/s]\n",
      "validation loop: 100%|██████████| 100/100 [00:00<00:00, 149.58it/s]\n",
      "train loop: 100%|██████████| 400/400 [00:02<00:00, 199.61it/s]\n",
      "validation loop: 100%|██████████| 100/100 [00:00<00:00, 141.29it/s]\n",
      "train loop: 100%|██████████| 400/400 [00:02<00:00, 198.71it/s]\n",
      "validation loop: 100%|██████████| 100/100 [00:00<00:00, 145.30it/s]\n",
      "train loop: 100%|██████████| 400/400 [00:02<00:00, 196.70it/s]\n",
      "validation loop: 100%|██████████| 100/100 [00:00<00:00, 141.45it/s]\n",
      "train loop: 100%|██████████| 400/400 [00:01<00:00, 208.67it/s]\n",
      "validation loop: 100%|██████████| 100/100 [00:00<00:00, 143.12it/s]\n",
      "train loop: 100%|██████████| 400/400 [00:02<00:00, 199.10it/s]\n",
      "validation loop: 100%|██████████| 100/100 [00:00<00:00, 144.94it/s]\n",
      "train loop: 100%|██████████| 400/400 [00:01<00:00, 207.73it/s]\n",
      "validation loop: 100%|██████████| 100/100 [00:00<00:00, 153.60it/s]\n",
      "train loop: 100%|██████████| 400/400 [00:01<00:00, 200.01it/s]\n",
      "validation loop: 100%|██████████| 100/100 [00:00<00:00, 138.50it/s]\n",
      "train loop: 100%|██████████| 400/400 [00:02<00:00, 198.85it/s]\n",
      "validation loop: 100%|██████████| 100/100 [00:00<00:00, 140.43it/s]\n",
      "train loop: 100%|██████████| 400/400 [00:02<00:00, 193.88it/s]\n",
      "validation loop: 100%|██████████| 100/100 [00:00<00:00, 150.78it/s]\n",
      "train loop: 100%|██████████| 400/400 [00:02<00:00, 195.19it/s]\n",
      "validation loop: 100%|██████████| 100/100 [00:00<00:00, 144.13it/s]\n",
      "train loop: 100%|██████████| 400/400 [00:02<00:00, 198.95it/s]\n",
      "validation loop: 100%|██████████| 100/100 [00:00<00:00, 139.15it/s]\n",
      "train loop: 100%|██████████| 400/400 [00:02<00:00, 196.16it/s]\n",
      "validation loop: 100%|██████████| 100/100 [00:00<00:00, 136.74it/s]\n",
      "train loop: 100%|██████████| 400/400 [00:02<00:00, 197.29it/s]\n",
      "validation loop: 100%|██████████| 100/100 [00:00<00:00, 146.70it/s]\n",
      "train loop: 100%|██████████| 400/400 [00:02<00:00, 196.25it/s]\n",
      "validation loop: 100%|██████████| 100/100 [00:00<00:00, 136.72it/s]\n",
      "train loop: 100%|██████████| 400/400 [00:02<00:00, 198.57it/s]\n",
      "validation loop: 100%|██████████| 100/100 [00:00<00:00, 140.73it/s]\n",
      "train loop: 100%|██████████| 400/400 [00:02<00:00, 192.36it/s]\n",
      "validation loop: 100%|██████████| 100/100 [00:00<00:00, 145.10it/s]\n",
      "train loop: 100%|██████████| 400/400 [00:02<00:00, 193.38it/s]\n",
      "validation loop: 100%|██████████| 100/100 [00:00<00:00, 144.36it/s]\n",
      "train loop: 100%|██████████| 400/400 [00:02<00:00, 197.32it/s]\n",
      "validation loop: 100%|██████████| 100/100 [00:00<00:00, 147.03it/s]\n",
      "train loop: 100%|██████████| 400/400 [00:02<00:00, 199.96it/s]\n",
      "validation loop: 100%|██████████| 100/100 [00:00<00:00, 147.51it/s]\n",
      "train loop: 100%|██████████| 400/400 [00:02<00:00, 196.18it/s]\n",
      "validation loop: 100%|██████████| 100/100 [00:00<00:00, 143.64it/s]\n",
      "train loop: 100%|██████████| 400/400 [00:01<00:00, 205.35it/s]\n",
      "validation loop: 100%|██████████| 100/100 [00:00<00:00, 143.39it/s]\n",
      "train loop: 100%|██████████| 400/400 [00:02<00:00, 195.86it/s]\n",
      "validation loop: 100%|██████████| 100/100 [00:00<00:00, 134.20it/s]\n",
      "train loop: 100%|██████████| 400/400 [00:02<00:00, 194.44it/s]\n",
      "validation loop: 100%|██████████| 100/100 [00:00<00:00, 146.90it/s]\n",
      "train loop: 100%|██████████| 400/400 [00:02<00:00, 191.34it/s]\n",
      "validation loop: 100%|██████████| 100/100 [00:00<00:00, 140.13it/s]\n",
      "train loop: 100%|██████████| 400/400 [00:01<00:00, 202.05it/s]\n",
      "validation loop: 100%|██████████| 100/100 [00:00<00:00, 141.19it/s]\n",
      "train loop: 100%|██████████| 400/400 [00:02<00:00, 188.19it/s]\n",
      "validation loop: 100%|██████████| 100/100 [00:00<00:00, 146.56it/s]\n",
      "train loop: 100%|██████████| 400/400 [00:02<00:00, 191.74it/s]\n",
      "validation loop: 100%|██████████| 100/100 [00:00<00:00, 143.33it/s]\n",
      "train loop: 100%|██████████| 400/400 [00:02<00:00, 196.50it/s]\n",
      "validation loop: 100%|██████████| 100/100 [00:00<00:00, 142.80it/s]\n",
      "train loop: 100%|██████████| 400/400 [00:01<00:00, 205.27it/s]\n",
      "validation loop: 100%|██████████| 100/100 [00:00<00:00, 138.15it/s]\n",
      "train loop: 100%|██████████| 400/400 [00:02<00:00, 199.25it/s]\n",
      "validation loop: 100%|██████████| 100/100 [00:00<00:00, 136.14it/s]\n",
      "train loop: 100%|██████████| 400/400 [00:02<00:00, 198.52it/s]\n",
      "validation loop: 100%|██████████| 100/100 [00:00<00:00, 136.94it/s]\n",
      "train loop: 100%|██████████| 400/400 [00:01<00:00, 203.32it/s]\n",
      "validation loop: 100%|██████████| 100/100 [00:00<00:00, 140.95it/s]\n",
      "train loop: 100%|██████████| 400/400 [00:01<00:00, 207.10it/s]\n",
      "validation loop: 100%|██████████| 100/100 [00:00<00:00, 146.94it/s]\n",
      "train loop: 100%|██████████| 400/400 [00:02<00:00, 196.68it/s]\n",
      "validation loop: 100%|██████████| 100/100 [00:00<00:00, 146.73it/s]\n",
      "train loop: 100%|██████████| 400/400 [00:01<00:00, 202.79it/s]\n",
      "validation loop: 100%|██████████| 100/100 [00:00<00:00, 137.94it/s]\n",
      "train loop: 100%|██████████| 400/400 [00:02<00:00, 199.84it/s]\n",
      "validation loop: 100%|██████████| 100/100 [00:00<00:00, 145.84it/s]\n",
      "train loop: 100%|██████████| 400/400 [00:02<00:00, 196.78it/s]\n",
      "validation loop: 100%|██████████| 100/100 [00:00<00:00, 139.82it/s]\n",
      "train loop: 100%|██████████| 400/400 [00:01<00:00, 200.42it/s]\n",
      "validation loop: 100%|██████████| 100/100 [00:00<00:00, 148.50it/s]\n",
      "train loop: 100%|██████████| 400/400 [00:01<00:00, 201.71it/s]\n",
      "validation loop: 100%|██████████| 100/100 [00:00<00:00, 142.66it/s]\n",
      "train loop: 100%|██████████| 400/400 [00:02<00:00, 198.35it/s]\n",
      "validation loop: 100%|██████████| 100/100 [00:00<00:00, 139.86it/s]\n",
      "train loop: 100%|██████████| 400/400 [00:02<00:00, 198.40it/s]\n",
      "validation loop: 100%|██████████| 100/100 [00:00<00:00, 146.65it/s]\n",
      "train loop: 100%|██████████| 400/400 [00:01<00:00, 203.87it/s]\n",
      "validation loop: 100%|██████████| 100/100 [00:00<00:00, 138.76it/s]\n",
      "train loop: 100%|██████████| 400/400 [00:01<00:00, 200.85it/s]\n",
      "validation loop: 100%|██████████| 100/100 [00:00<00:00, 143.61it/s]\n",
      "train loop: 100%|██████████| 400/400 [00:02<00:00, 191.91it/s]\n",
      "validation loop: 100%|██████████| 100/100 [00:00<00:00, 144.80it/s]\n",
      "train loop: 100%|██████████| 400/400 [00:01<00:00, 200.46it/s]\n",
      "validation loop: 100%|██████████| 100/100 [00:00<00:00, 139.01it/s]\n",
      "train loop: 100%|██████████| 400/400 [00:01<00:00, 208.69it/s]\n",
      "validation loop: 100%|██████████| 100/100 [00:00<00:00, 145.30it/s]\n",
      "train loop: 100%|██████████| 400/400 [00:01<00:00, 204.92it/s]\n",
      "validation loop: 100%|██████████| 100/100 [00:00<00:00, 151.02it/s]\n",
      "train loop: 100%|██████████| 400/400 [00:01<00:00, 202.79it/s]\n",
      "validation loop: 100%|██████████| 100/100 [00:00<00:00, 154.30it/s]\n",
      "train loop: 100%|██████████| 400/400 [00:01<00:00, 206.68it/s]\n",
      "validation loop: 100%|██████████| 100/100 [00:00<00:00, 134.83it/s]\n",
      "train loop: 100%|██████████| 400/400 [00:02<00:00, 195.51it/s]\n",
      "validation loop: 100%|██████████| 100/100 [00:00<00:00, 140.14it/s]\n",
      "train loop: 100%|██████████| 400/400 [00:02<00:00, 198.39it/s]\n",
      "validation loop: 100%|██████████| 100/100 [00:00<00:00, 144.43it/s]\n",
      "train loop: 100%|██████████| 400/400 [00:02<00:00, 194.26it/s]\n",
      "validation loop: 100%|██████████| 100/100 [00:00<00:00, 144.31it/s]\n",
      "train loop: 100%|██████████| 400/400 [00:02<00:00, 196.33it/s]\n",
      "validation loop: 100%|██████████| 100/100 [00:00<00:00, 138.84it/s]\n",
      "train loop: 100%|██████████| 400/400 [00:02<00:00, 199.12it/s]\n",
      "validation loop: 100%|██████████| 100/100 [00:00<00:00, 137.86it/s]\n",
      "train loop: 100%|██████████| 400/400 [00:01<00:00, 207.65it/s]\n",
      "validation loop: 100%|██████████| 100/100 [00:00<00:00, 139.81it/s]\n",
      "train loop: 100%|██████████| 400/400 [00:01<00:00, 200.91it/s]\n",
      "validation loop: 100%|██████████| 100/100 [00:00<00:00, 139.65it/s]\n",
      "train loop: 100%|██████████| 400/400 [00:02<00:00, 196.21it/s]\n",
      "validation loop: 100%|██████████| 100/100 [00:00<00:00, 148.93it/s]\n",
      "train loop: 100%|██████████| 400/400 [00:02<00:00, 198.37it/s]\n",
      "validation loop: 100%|██████████| 100/100 [00:00<00:00, 146.43it/s]\n",
      "train loop: 100%|██████████| 400/400 [00:02<00:00, 198.28it/s]\n",
      "validation loop: 100%|██████████| 100/100 [00:00<00:00, 141.66it/s]\n",
      "train loop: 100%|██████████| 400/400 [00:02<00:00, 197.40it/s]\n",
      "validation loop: 100%|██████████| 100/100 [00:00<00:00, 149.44it/s]\n",
      "train loop: 100%|██████████| 400/400 [00:02<00:00, 199.91it/s]\n",
      "validation loop: 100%|██████████| 100/100 [00:00<00:00, 147.36it/s]\n",
      "train loop: 100%|██████████| 400/400 [00:02<00:00, 187.32it/s]\n",
      "validation loop: 100%|██████████| 100/100 [00:00<00:00, 146.57it/s]\n",
      "train loop: 100%|██████████| 400/400 [00:02<00:00, 197.31it/s]\n",
      "validation loop: 100%|██████████| 100/100 [00:00<00:00, 141.94it/s]\n",
      "train loop: 100%|██████████| 400/400 [00:02<00:00, 184.54it/s]\n",
      "validation loop: 100%|██████████| 100/100 [00:00<00:00, 142.38it/s]\n",
      "train loop: 100%|██████████| 400/400 [00:02<00:00, 197.76it/s]\n",
      "validation loop: 100%|██████████| 100/100 [00:00<00:00, 147.68it/s]\n",
      "train loop: 100%|██████████| 400/400 [00:02<00:00, 197.32it/s]\n",
      "validation loop: 100%|██████████| 100/100 [00:00<00:00, 144.78it/s]\n",
      "train loop: 100%|██████████| 400/400 [00:02<00:00, 198.48it/s]\n",
      "validation loop: 100%|██████████| 100/100 [00:00<00:00, 141.58it/s]\n",
      "train loop: 100%|██████████| 400/400 [00:02<00:00, 199.05it/s]\n",
      "validation loop: 100%|██████████| 100/100 [00:00<00:00, 147.79it/s]\n",
      "train loop: 100%|██████████| 400/400 [00:01<00:00, 201.33it/s]\n",
      "validation loop: 100%|██████████| 100/100 [00:00<00:00, 145.25it/s]\n",
      "train loop: 100%|██████████| 400/400 [00:01<00:00, 203.63it/s]\n",
      "validation loop: 100%|██████████| 100/100 [00:00<00:00, 142.71it/s]\n",
      "train loop: 100%|██████████| 400/400 [00:02<00:00, 198.24it/s]\n",
      "validation loop: 100%|██████████| 100/100 [00:00<00:00, 143.74it/s]\n",
      "train loop: 100%|██████████| 400/400 [00:01<00:00, 202.14it/s]\n",
      "validation loop: 100%|██████████| 100/100 [00:00<00:00, 153.17it/s]\n",
      "train loop: 100%|██████████| 400/400 [00:02<00:00, 193.11it/s]\n",
      "validation loop: 100%|██████████| 100/100 [00:00<00:00, 140.87it/s]\n",
      "train loop: 100%|██████████| 400/400 [00:01<00:00, 207.67it/s]\n",
      "validation loop: 100%|██████████| 100/100 [00:00<00:00, 143.20it/s]\n",
      "train loop: 100%|██████████| 400/400 [00:02<00:00, 185.24it/s]\n",
      "validation loop: 100%|██████████| 100/100 [00:00<00:00, 138.68it/s]\n",
      "train loop: 100%|██████████| 400/400 [00:02<00:00, 197.00it/s]\n",
      "validation loop: 100%|██████████| 100/100 [00:00<00:00, 140.81it/s]\n",
      "train loop: 100%|██████████| 400/400 [00:02<00:00, 178.52it/s]\n",
      "validation loop: 100%|██████████| 100/100 [00:00<00:00, 107.73it/s]\n",
      "train loop: 100%|██████████| 400/400 [00:02<00:00, 183.84it/s]\n",
      "validation loop: 100%|██████████| 100/100 [00:00<00:00, 140.14it/s]\n",
      "train loop: 100%|██████████| 400/400 [00:02<00:00, 197.63it/s]\n",
      "validation loop: 100%|██████████| 100/100 [00:00<00:00, 146.05it/s]\n",
      "train loop: 100%|██████████| 400/400 [00:02<00:00, 198.22it/s]\n",
      "validation loop: 100%|██████████| 100/100 [00:00<00:00, 146.88it/s]\n",
      "train loop: 100%|██████████| 400/400 [00:02<00:00, 189.78it/s]\n",
      "validation loop: 100%|██████████| 100/100 [00:00<00:00, 134.97it/s]\n",
      "train loop: 100%|██████████| 400/400 [00:02<00:00, 188.67it/s]\n",
      "validation loop: 100%|██████████| 100/100 [00:00<00:00, 143.68it/s]\n",
      "train loop: 100%|██████████| 400/400 [00:02<00:00, 196.68it/s]\n",
      "validation loop: 100%|██████████| 100/100 [00:00<00:00, 137.83it/s]\n",
      "train loop: 100%|██████████| 400/400 [00:01<00:00, 203.68it/s]\n",
      "validation loop: 100%|██████████| 100/100 [00:00<00:00, 132.05it/s]\n",
      "train loop: 100%|██████████| 400/400 [00:02<00:00, 199.80it/s]\n",
      "validation loop: 100%|██████████| 100/100 [00:00<00:00, 145.06it/s]\n",
      "train loop: 100%|██████████| 400/400 [00:02<00:00, 189.35it/s]\n",
      "validation loop: 100%|██████████| 100/100 [00:00<00:00, 150.05it/s]\n",
      "train loop: 100%|██████████| 400/400 [00:02<00:00, 195.42it/s]\n",
      "validation loop: 100%|██████████| 100/100 [00:00<00:00, 151.29it/s]\n",
      "train loop: 100%|██████████| 400/400 [00:01<00:00, 200.87it/s]\n",
      "validation loop: 100%|██████████| 100/100 [00:00<00:00, 134.68it/s]\n",
      "train loop: 100%|██████████| 400/400 [00:02<00:00, 196.88it/s]\n",
      "validation loop: 100%|██████████| 100/100 [00:00<00:00, 146.19it/s]\n"
     ]
    }
   ],
   "source": [
    "total_training_time = perf_counter()\n",
    "for epoch in range(NUM_EPOCHS):\n",
    "    \n",
    "    correct_predictions: int = 0\n",
    "    total_predictions: int = 0\n",
    "    \n",
    "    training_loop_execution_time = perf_counter()\n",
    "    for idx, (inputs, labels) in enumerate(tqdm(train_dataloader, desc='train loop'), 0):\n",
    "        # zero the parameter gradients\n",
    "        optimizer.zero_grad()\n",
    "        inputs, labels = inputs.to(DEVICE), labels.to(DEVICE)\n",
    "        \n",
    "        # forward pass\n",
    "        y_hat = model(inputs)\n",
    "        \n",
    "        # calculate losses\n",
    "        loss = loss_function(y_hat, labels)\n",
    "        # backpropagate the new gradients\n",
    "        loss.backward()\n",
    "        # optimize the gradients\n",
    "        optimizer.step()\n",
    "        \n",
    "        _, y_predictions = torch.max(y_hat, 1)\n",
    "        correct_predictions += torch.sum(y_predictions == labels).item()\n",
    "        total_predictions += labels.size(0)\n",
    "        \n",
    "    if INCLUDE_WANDB:\n",
    "        training_loop_execution_time = perf_counter() - training_loop_execution_time\n",
    "        train_accuracy = 100 * correct_predictions / total_predictions\n",
    "        wandb.log({\n",
    "            'loss': loss.item(), \n",
    "            'training accuracy in %': train_accuracy,\n",
    "            'epoch execution time': training_loop_execution_time,\n",
    "            }, step=epoch)\n",
    "        \n",
    "    model.eval()\n",
    "    \n",
    "    get_test_accuracy(validation_dataloader, is_validation=True, epoch=epoch)\n",
    "    # get_test_accuracy_of_each_class(validation_dataloader, is_validation=True)\n",
    "    model.train()\n",
    "    \n",
    "if INCLUDE_WANDB:\n",
    "    wandb.summary['total training time'] = round(perf_counter() - total_training_time, 4)"
   ]
  },
  {
   "cell_type": "code",
   "execution_count": 13,
   "metadata": {},
   "outputs": [],
   "source": [
    "MODEL_PATH: str = f'./models/{model_type}_cifar_net.pth'\n",
    "torch.save(model.state_dict(), MODEL_PATH)"
   ]
  },
  {
   "cell_type": "code",
   "execution_count": 14,
   "metadata": {},
   "outputs": [
    {
     "name": "stderr",
     "output_type": "stream",
     "text": [
      "test loop: 100%|██████████| 100/100 [00:00<00:00, 134.74it/s]"
     ]
    },
    {
     "name": "stdout",
     "output_type": "stream",
     "text": [
      "Accuracy of the network on the 10000 test images: 59.8 %\n",
      "Accuracy for class: plane is 64.5 %\n",
      "Accuracy for class: car   is 72.1 %\n",
      "Accuracy for class: bird  is 44.6 %\n",
      "Accuracy for class: cat   is 38.3 %\n",
      "Accuracy for class: deer  is 55.4 %\n",
      "Accuracy for class: dog   is 48.3 %\n",
      "Accuracy for class: frog  is 70.5 %\n",
      "Accuracy for class: horse is 62.9 %\n",
      "Accuracy for class: ship  is 71.1 %\n",
      "Accuracy for class: truck is 70.3 %\n"
     ]
    },
    {
     "name": "stderr",
     "output_type": "stream",
     "text": [
      "\n"
     ]
    }
   ],
   "source": [
    "get_test_accuracy(test_dataloader)"
   ]
  }
 ],
 "metadata": {
  "kernelspec": {
   "display_name": "Python 3.9.13 ('ml_pytorch')",
   "language": "python",
   "name": "python3"
  },
  "language_info": {
   "codemirror_mode": {
    "name": "ipython",
    "version": 3
   },
   "file_extension": ".py",
   "mimetype": "text/x-python",
   "name": "python",
   "nbconvert_exporter": "python",
   "pygments_lexer": "ipython3",
   "version": "3.9.13"
  },
  "orig_nbformat": 4,
  "vscode": {
   "interpreter": {
    "hash": "631fa29ff452e796f5703a13b9a25aaedc38e1bbca43d17166395e7a7dc8b7e5"
   }
  }
 },
 "nbformat": 4,
 "nbformat_minor": 2
}
